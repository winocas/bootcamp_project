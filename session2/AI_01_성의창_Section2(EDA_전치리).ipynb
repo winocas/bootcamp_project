{
  "nbformat": 4,
  "nbformat_minor": 0,
  "metadata": {
    "colab": {
      "name": "AI_01_성의창_Section2(EDA/전치리).ipynb",
      "provenance": []
    },
    "kernelspec": {
      "name": "python3",
      "display_name": "Python 3"
    }
  },
  "cells": [
    {
      "cell_type": "markdown",
      "metadata": {
        "id": "qmKyd0u99sY8"
      },
      "source": [
        "가게를 운영함에 있어서 가장 중요한 평가 요소는 결국 매출일 것입니다.  \r\n",
        "하지만 영세한 가게들의 경우 데이터를 활용해 매출을 예측하기는 어렵습니다.  \r\n",
        "매출과 매입의 총액 정도의 정보만을 찾을 수는 있지만 이를 예측하기 위한 세부적 정보들을 찾아 활용하기까지는 어렵습니다.  \r\n",
        "미국의 대형마트인 월마트에서는 어떠한 정보를 이용해서 매출을 예측하는지를 살펴보고 이를 통해서 적용할 수 있을 법한 내용들이나 참고할 부분들을 찾아보고자 합니다.  "
      ]
    },
    {
      "cell_type": "code",
      "metadata": {
        "id": "5eCDjuE86YnM",
        "colab": {
          "resources": {
            "http://localhost:8080/nbextensions/google.colab/files.js": {
              "data": "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",
              "ok": true,
              "headers": [
                [
                  "content-type",
                  "application/javascript"
                ]
              ],
              "status": 200,
              "status_text": ""
            }
          },
          "base_uri": "https://localhost:8080/",
          "height": 95
        },
        "outputId": "bcccdf0f-94c2-4acd-a6b9-e6b18eb45dc4"
      },
      "source": [
        "# from google.colab import files\r\n",
        "# files.upload()"
      ],
      "execution_count": 3,
      "outputs": [
        {
          "output_type": "display_data",
          "data": {
            "text/html": [
              "\n",
              "     <input type=\"file\" id=\"files-01dc4b5e-c8d1-4749-b348-2861afd1c272\" name=\"files[]\" multiple disabled\n",
              "        style=\"border:none\" />\n",
              "     <output id=\"result-01dc4b5e-c8d1-4749-b348-2861afd1c272\">\n",
              "      Upload widget is only available when the cell has been executed in the\n",
              "      current browser session. Please rerun this cell to enable.\n",
              "      </output>\n",
              "      <script src=\"/nbextensions/google.colab/files.js\"></script> "
            ],
            "text/plain": [
              "<IPython.core.display.HTML object>"
            ]
          },
          "metadata": {
            "tags": []
          }
        },
        {
          "output_type": "stream",
          "text": [
            "Saving kaggle.json to kaggle.json\n"
          ],
          "name": "stdout"
        },
        {
          "output_type": "execute_result",
          "data": {
            "text/plain": [
              "{'kaggle.json': b'{\"username\":\"winocas\",\"key\":\"d0f593e1caca70735e117d0f7cec5748\"}'}"
            ]
          },
          "metadata": {
            "tags": []
          },
          "execution_count": 3
        }
      ]
    },
    {
      "cell_type": "code",
      "metadata": {
        "id": "qW_W-gjogZ97"
      },
      "source": [
        "# !mkdir -p ~/.kaggle\r\n",
        "# !cp kaggle.json ~/.kaggle/kaggle.json\r\n",
        "# !chmod 600 ~/.kaggle/kaggle.json #permission warning 방지"
      ],
      "execution_count": 4,
      "outputs": []
    },
    {
      "cell_type": "code",
      "metadata": {
        "colab": {
          "base_uri": "https://localhost:8080/"
        },
        "id": "CyYwoBKWggKG",
        "outputId": "7b0a0752-e550-4cff-a653-ced3e02f53fd"
      },
      "source": [
        "# ! kaggle datasets download -d iamprateek/wallmart-sales-forecast-datasets"
      ],
      "execution_count": 5,
      "outputs": [
        {
          "output_type": "stream",
          "text": [
            "Downloading wallmart-sales-forecast-datasets.zip to /content\n",
            "\r  0% 0.00/3.36M [00:00<?, ?B/s]\n",
            "\r100% 3.36M/3.36M [00:00<00:00, 55.5MB/s]\n"
          ],
          "name": "stdout"
        }
      ]
    },
    {
      "cell_type": "code",
      "metadata": {
        "colab": {
          "base_uri": "https://localhost:8080/"
        },
        "id": "D6_aCNApgkE5",
        "outputId": "26b19322-2664-4124-ba38-01db69e83d8f"
      },
      "source": [
        "!unzip \\*.zip  && rm *.zip # 압축해제"
      ],
      "execution_count": 6,
      "outputs": [
        {
          "output_type": "stream",
          "text": [
            "Archive:  wallmart-sales-forecast-datasets.zip\n",
            "  inflating: features.csv            \n",
            "  inflating: stores.csv              \n",
            "  inflating: test.csv                \n",
            "  inflating: train.csv               \n"
          ],
          "name": "stdout"
        }
      ]
    },
    {
      "cell_type": "markdown",
      "metadata": {
        "id": "rwDW4u6I7w2l"
      },
      "source": [
        "# EDA"
      ]
    },
    {
      "cell_type": "code",
      "metadata": {
        "id": "vE4x6Hhsgnda"
      },
      "source": [
        "import pandas as pd\r\n",
        "import matplotlib.pyplot as plt\r\n",
        "import seaborn as sns\r\n",
        "import numpy as np"
      ],
      "execution_count": 45,
      "outputs": []
    },
    {
      "cell_type": "code",
      "metadata": {
        "id": "tK6DL-i1hflV"
      },
      "source": [
        "train = pd.read_csv('train.csv')\r\n",
        "test = pd.read_csv('test.csv')\r\n",
        "stores = pd.read_csv('stores.csv')\r\n",
        "feat = pd.read_csv('features.csv')"
      ],
      "execution_count": 8,
      "outputs": []
    },
    {
      "cell_type": "code",
      "metadata": {
        "colab": {
          "base_uri": "https://localhost:8080/",
          "height": 399
        },
        "id": "V6mvBctMNTUy",
        "outputId": "11d1f989-af1e-4da0-d28a-2e6987422f8f"
      },
      "source": [
        "train"
      ],
      "execution_count": 9,
      "outputs": [
        {
          "output_type": "execute_result",
          "data": {
            "text/html": [
              "<div>\n",
              "<style scoped>\n",
              "    .dataframe tbody tr th:only-of-type {\n",
              "        vertical-align: middle;\n",
              "    }\n",
              "\n",
              "    .dataframe tbody tr th {\n",
              "        vertical-align: top;\n",
              "    }\n",
              "\n",
              "    .dataframe thead th {\n",
              "        text-align: right;\n",
              "    }\n",
              "</style>\n",
              "<table border=\"1\" class=\"dataframe\">\n",
              "  <thead>\n",
              "    <tr style=\"text-align: right;\">\n",
              "      <th></th>\n",
              "      <th>Store</th>\n",
              "      <th>Dept</th>\n",
              "      <th>Date</th>\n",
              "      <th>Weekly_Sales</th>\n",
              "      <th>IsHoliday</th>\n",
              "    </tr>\n",
              "  </thead>\n",
              "  <tbody>\n",
              "    <tr>\n",
              "      <th>0</th>\n",
              "      <td>1</td>\n",
              "      <td>1</td>\n",
              "      <td>2010-02-05</td>\n",
              "      <td>24924.50</td>\n",
              "      <td>False</td>\n",
              "    </tr>\n",
              "    <tr>\n",
              "      <th>1</th>\n",
              "      <td>1</td>\n",
              "      <td>1</td>\n",
              "      <td>2010-02-12</td>\n",
              "      <td>46039.49</td>\n",
              "      <td>True</td>\n",
              "    </tr>\n",
              "    <tr>\n",
              "      <th>2</th>\n",
              "      <td>1</td>\n",
              "      <td>1</td>\n",
              "      <td>2010-02-19</td>\n",
              "      <td>41595.55</td>\n",
              "      <td>False</td>\n",
              "    </tr>\n",
              "    <tr>\n",
              "      <th>3</th>\n",
              "      <td>1</td>\n",
              "      <td>1</td>\n",
              "      <td>2010-02-26</td>\n",
              "      <td>19403.54</td>\n",
              "      <td>False</td>\n",
              "    </tr>\n",
              "    <tr>\n",
              "      <th>4</th>\n",
              "      <td>1</td>\n",
              "      <td>1</td>\n",
              "      <td>2010-03-05</td>\n",
              "      <td>21827.90</td>\n",
              "      <td>False</td>\n",
              "    </tr>\n",
              "    <tr>\n",
              "      <th>...</th>\n",
              "      <td>...</td>\n",
              "      <td>...</td>\n",
              "      <td>...</td>\n",
              "      <td>...</td>\n",
              "      <td>...</td>\n",
              "    </tr>\n",
              "    <tr>\n",
              "      <th>421565</th>\n",
              "      <td>45</td>\n",
              "      <td>98</td>\n",
              "      <td>2012-09-28</td>\n",
              "      <td>508.37</td>\n",
              "      <td>False</td>\n",
              "    </tr>\n",
              "    <tr>\n",
              "      <th>421566</th>\n",
              "      <td>45</td>\n",
              "      <td>98</td>\n",
              "      <td>2012-10-05</td>\n",
              "      <td>628.10</td>\n",
              "      <td>False</td>\n",
              "    </tr>\n",
              "    <tr>\n",
              "      <th>421567</th>\n",
              "      <td>45</td>\n",
              "      <td>98</td>\n",
              "      <td>2012-10-12</td>\n",
              "      <td>1061.02</td>\n",
              "      <td>False</td>\n",
              "    </tr>\n",
              "    <tr>\n",
              "      <th>421568</th>\n",
              "      <td>45</td>\n",
              "      <td>98</td>\n",
              "      <td>2012-10-19</td>\n",
              "      <td>760.01</td>\n",
              "      <td>False</td>\n",
              "    </tr>\n",
              "    <tr>\n",
              "      <th>421569</th>\n",
              "      <td>45</td>\n",
              "      <td>98</td>\n",
              "      <td>2012-10-26</td>\n",
              "      <td>1076.80</td>\n",
              "      <td>False</td>\n",
              "    </tr>\n",
              "  </tbody>\n",
              "</table>\n",
              "<p>421570 rows × 5 columns</p>\n",
              "</div>"
            ],
            "text/plain": [
              "        Store  Dept        Date  Weekly_Sales  IsHoliday\n",
              "0           1     1  2010-02-05      24924.50      False\n",
              "1           1     1  2010-02-12      46039.49       True\n",
              "2           1     1  2010-02-19      41595.55      False\n",
              "3           1     1  2010-02-26      19403.54      False\n",
              "4           1     1  2010-03-05      21827.90      False\n",
              "...       ...   ...         ...           ...        ...\n",
              "421565     45    98  2012-09-28        508.37      False\n",
              "421566     45    98  2012-10-05        628.10      False\n",
              "421567     45    98  2012-10-12       1061.02      False\n",
              "421568     45    98  2012-10-19        760.01      False\n",
              "421569     45    98  2012-10-26       1076.80      False\n",
              "\n",
              "[421570 rows x 5 columns]"
            ]
          },
          "metadata": {
            "tags": []
          },
          "execution_count": 9
        }
      ]
    },
    {
      "cell_type": "code",
      "metadata": {
        "colab": {
          "base_uri": "https://localhost:8080/",
          "height": 399
        },
        "id": "g7dvK2CONMOw",
        "outputId": "a851cdcb-e36a-4851-85ac-f94437e3ecef"
      },
      "source": [
        "test"
      ],
      "execution_count": 13,
      "outputs": [
        {
          "output_type": "execute_result",
          "data": {
            "text/html": [
              "<div>\n",
              "<style scoped>\n",
              "    .dataframe tbody tr th:only-of-type {\n",
              "        vertical-align: middle;\n",
              "    }\n",
              "\n",
              "    .dataframe tbody tr th {\n",
              "        vertical-align: top;\n",
              "    }\n",
              "\n",
              "    .dataframe thead th {\n",
              "        text-align: right;\n",
              "    }\n",
              "</style>\n",
              "<table border=\"1\" class=\"dataframe\">\n",
              "  <thead>\n",
              "    <tr style=\"text-align: right;\">\n",
              "      <th></th>\n",
              "      <th>Store</th>\n",
              "      <th>Dept</th>\n",
              "      <th>Date</th>\n",
              "      <th>IsHoliday</th>\n",
              "    </tr>\n",
              "  </thead>\n",
              "  <tbody>\n",
              "    <tr>\n",
              "      <th>0</th>\n",
              "      <td>1</td>\n",
              "      <td>1</td>\n",
              "      <td>2012-11-02</td>\n",
              "      <td>False</td>\n",
              "    </tr>\n",
              "    <tr>\n",
              "      <th>1</th>\n",
              "      <td>1</td>\n",
              "      <td>1</td>\n",
              "      <td>2012-11-09</td>\n",
              "      <td>False</td>\n",
              "    </tr>\n",
              "    <tr>\n",
              "      <th>2</th>\n",
              "      <td>1</td>\n",
              "      <td>1</td>\n",
              "      <td>2012-11-16</td>\n",
              "      <td>False</td>\n",
              "    </tr>\n",
              "    <tr>\n",
              "      <th>3</th>\n",
              "      <td>1</td>\n",
              "      <td>1</td>\n",
              "      <td>2012-11-23</td>\n",
              "      <td>True</td>\n",
              "    </tr>\n",
              "    <tr>\n",
              "      <th>4</th>\n",
              "      <td>1</td>\n",
              "      <td>1</td>\n",
              "      <td>2012-11-30</td>\n",
              "      <td>False</td>\n",
              "    </tr>\n",
              "    <tr>\n",
              "      <th>...</th>\n",
              "      <td>...</td>\n",
              "      <td>...</td>\n",
              "      <td>...</td>\n",
              "      <td>...</td>\n",
              "    </tr>\n",
              "    <tr>\n",
              "      <th>115059</th>\n",
              "      <td>45</td>\n",
              "      <td>98</td>\n",
              "      <td>2013-06-28</td>\n",
              "      <td>False</td>\n",
              "    </tr>\n",
              "    <tr>\n",
              "      <th>115060</th>\n",
              "      <td>45</td>\n",
              "      <td>98</td>\n",
              "      <td>2013-07-05</td>\n",
              "      <td>False</td>\n",
              "    </tr>\n",
              "    <tr>\n",
              "      <th>115061</th>\n",
              "      <td>45</td>\n",
              "      <td>98</td>\n",
              "      <td>2013-07-12</td>\n",
              "      <td>False</td>\n",
              "    </tr>\n",
              "    <tr>\n",
              "      <th>115062</th>\n",
              "      <td>45</td>\n",
              "      <td>98</td>\n",
              "      <td>2013-07-19</td>\n",
              "      <td>False</td>\n",
              "    </tr>\n",
              "    <tr>\n",
              "      <th>115063</th>\n",
              "      <td>45</td>\n",
              "      <td>98</td>\n",
              "      <td>2013-07-26</td>\n",
              "      <td>False</td>\n",
              "    </tr>\n",
              "  </tbody>\n",
              "</table>\n",
              "<p>115064 rows × 4 columns</p>\n",
              "</div>"
            ],
            "text/plain": [
              "        Store  Dept        Date  IsHoliday\n",
              "0           1     1  2012-11-02      False\n",
              "1           1     1  2012-11-09      False\n",
              "2           1     1  2012-11-16      False\n",
              "3           1     1  2012-11-23       True\n",
              "4           1     1  2012-11-30      False\n",
              "...       ...   ...         ...        ...\n",
              "115059     45    98  2013-06-28      False\n",
              "115060     45    98  2013-07-05      False\n",
              "115061     45    98  2013-07-12      False\n",
              "115062     45    98  2013-07-19      False\n",
              "115063     45    98  2013-07-26      False\n",
              "\n",
              "[115064 rows x 4 columns]"
            ]
          },
          "metadata": {
            "tags": []
          },
          "execution_count": 13
        }
      ]
    },
    {
      "cell_type": "code",
      "metadata": {
        "colab": {
          "base_uri": "https://localhost:8080/",
          "height": 194
        },
        "id": "t4AGJ_kFR2fZ",
        "outputId": "f0931638-e21f-4cb3-b439-75002ef87edd"
      },
      "source": [
        "stores.head()"
      ],
      "execution_count": 14,
      "outputs": [
        {
          "output_type": "execute_result",
          "data": {
            "text/html": [
              "<div>\n",
              "<style scoped>\n",
              "    .dataframe tbody tr th:only-of-type {\n",
              "        vertical-align: middle;\n",
              "    }\n",
              "\n",
              "    .dataframe tbody tr th {\n",
              "        vertical-align: top;\n",
              "    }\n",
              "\n",
              "    .dataframe thead th {\n",
              "        text-align: right;\n",
              "    }\n",
              "</style>\n",
              "<table border=\"1\" class=\"dataframe\">\n",
              "  <thead>\n",
              "    <tr style=\"text-align: right;\">\n",
              "      <th></th>\n",
              "      <th>Store</th>\n",
              "      <th>Type</th>\n",
              "      <th>Size</th>\n",
              "    </tr>\n",
              "  </thead>\n",
              "  <tbody>\n",
              "    <tr>\n",
              "      <th>0</th>\n",
              "      <td>1</td>\n",
              "      <td>A</td>\n",
              "      <td>151315</td>\n",
              "    </tr>\n",
              "    <tr>\n",
              "      <th>1</th>\n",
              "      <td>2</td>\n",
              "      <td>A</td>\n",
              "      <td>202307</td>\n",
              "    </tr>\n",
              "    <tr>\n",
              "      <th>2</th>\n",
              "      <td>3</td>\n",
              "      <td>B</td>\n",
              "      <td>37392</td>\n",
              "    </tr>\n",
              "    <tr>\n",
              "      <th>3</th>\n",
              "      <td>4</td>\n",
              "      <td>A</td>\n",
              "      <td>205863</td>\n",
              "    </tr>\n",
              "    <tr>\n",
              "      <th>4</th>\n",
              "      <td>5</td>\n",
              "      <td>B</td>\n",
              "      <td>34875</td>\n",
              "    </tr>\n",
              "  </tbody>\n",
              "</table>\n",
              "</div>"
            ],
            "text/plain": [
              "   Store Type    Size\n",
              "0      1    A  151315\n",
              "1      2    A  202307\n",
              "2      3    B   37392\n",
              "3      4    A  205863\n",
              "4      5    B   34875"
            ]
          },
          "metadata": {
            "tags": []
          },
          "execution_count": 14
        }
      ]
    },
    {
      "cell_type": "code",
      "metadata": {
        "colab": {
          "base_uri": "https://localhost:8080/",
          "height": 399
        },
        "id": "nGjUzm5t71EO",
        "outputId": "2eb24695-9e18-4761-af2f-e25e21e31d02"
      },
      "source": [
        "feat"
      ],
      "execution_count": 15,
      "outputs": [
        {
          "output_type": "execute_result",
          "data": {
            "text/html": [
              "<div>\n",
              "<style scoped>\n",
              "    .dataframe tbody tr th:only-of-type {\n",
              "        vertical-align: middle;\n",
              "    }\n",
              "\n",
              "    .dataframe tbody tr th {\n",
              "        vertical-align: top;\n",
              "    }\n",
              "\n",
              "    .dataframe thead th {\n",
              "        text-align: right;\n",
              "    }\n",
              "</style>\n",
              "<table border=\"1\" class=\"dataframe\">\n",
              "  <thead>\n",
              "    <tr style=\"text-align: right;\">\n",
              "      <th></th>\n",
              "      <th>Store</th>\n",
              "      <th>Date</th>\n",
              "      <th>Temperature</th>\n",
              "      <th>Fuel_Price</th>\n",
              "      <th>MarkDown1</th>\n",
              "      <th>MarkDown2</th>\n",
              "      <th>MarkDown3</th>\n",
              "      <th>MarkDown4</th>\n",
              "      <th>MarkDown5</th>\n",
              "      <th>CPI</th>\n",
              "      <th>Unemployment</th>\n",
              "      <th>IsHoliday</th>\n",
              "    </tr>\n",
              "  </thead>\n",
              "  <tbody>\n",
              "    <tr>\n",
              "      <th>0</th>\n",
              "      <td>1</td>\n",
              "      <td>2010-02-05</td>\n",
              "      <td>42.31</td>\n",
              "      <td>2.572</td>\n",
              "      <td>NaN</td>\n",
              "      <td>NaN</td>\n",
              "      <td>NaN</td>\n",
              "      <td>NaN</td>\n",
              "      <td>NaN</td>\n",
              "      <td>211.096358</td>\n",
              "      <td>8.106</td>\n",
              "      <td>False</td>\n",
              "    </tr>\n",
              "    <tr>\n",
              "      <th>1</th>\n",
              "      <td>1</td>\n",
              "      <td>2010-02-12</td>\n",
              "      <td>38.51</td>\n",
              "      <td>2.548</td>\n",
              "      <td>NaN</td>\n",
              "      <td>NaN</td>\n",
              "      <td>NaN</td>\n",
              "      <td>NaN</td>\n",
              "      <td>NaN</td>\n",
              "      <td>211.242170</td>\n",
              "      <td>8.106</td>\n",
              "      <td>True</td>\n",
              "    </tr>\n",
              "    <tr>\n",
              "      <th>2</th>\n",
              "      <td>1</td>\n",
              "      <td>2010-02-19</td>\n",
              "      <td>39.93</td>\n",
              "      <td>2.514</td>\n",
              "      <td>NaN</td>\n",
              "      <td>NaN</td>\n",
              "      <td>NaN</td>\n",
              "      <td>NaN</td>\n",
              "      <td>NaN</td>\n",
              "      <td>211.289143</td>\n",
              "      <td>8.106</td>\n",
              "      <td>False</td>\n",
              "    </tr>\n",
              "    <tr>\n",
              "      <th>3</th>\n",
              "      <td>1</td>\n",
              "      <td>2010-02-26</td>\n",
              "      <td>46.63</td>\n",
              "      <td>2.561</td>\n",
              "      <td>NaN</td>\n",
              "      <td>NaN</td>\n",
              "      <td>NaN</td>\n",
              "      <td>NaN</td>\n",
              "      <td>NaN</td>\n",
              "      <td>211.319643</td>\n",
              "      <td>8.106</td>\n",
              "      <td>False</td>\n",
              "    </tr>\n",
              "    <tr>\n",
              "      <th>4</th>\n",
              "      <td>1</td>\n",
              "      <td>2010-03-05</td>\n",
              "      <td>46.50</td>\n",
              "      <td>2.625</td>\n",
              "      <td>NaN</td>\n",
              "      <td>NaN</td>\n",
              "      <td>NaN</td>\n",
              "      <td>NaN</td>\n",
              "      <td>NaN</td>\n",
              "      <td>211.350143</td>\n",
              "      <td>8.106</td>\n",
              "      <td>False</td>\n",
              "    </tr>\n",
              "    <tr>\n",
              "      <th>...</th>\n",
              "      <td>...</td>\n",
              "      <td>...</td>\n",
              "      <td>...</td>\n",
              "      <td>...</td>\n",
              "      <td>...</td>\n",
              "      <td>...</td>\n",
              "      <td>...</td>\n",
              "      <td>...</td>\n",
              "      <td>...</td>\n",
              "      <td>...</td>\n",
              "      <td>...</td>\n",
              "      <td>...</td>\n",
              "    </tr>\n",
              "    <tr>\n",
              "      <th>8185</th>\n",
              "      <td>45</td>\n",
              "      <td>2013-06-28</td>\n",
              "      <td>76.05</td>\n",
              "      <td>3.639</td>\n",
              "      <td>4842.29</td>\n",
              "      <td>975.03</td>\n",
              "      <td>3.00</td>\n",
              "      <td>2449.97</td>\n",
              "      <td>3169.69</td>\n",
              "      <td>NaN</td>\n",
              "      <td>NaN</td>\n",
              "      <td>False</td>\n",
              "    </tr>\n",
              "    <tr>\n",
              "      <th>8186</th>\n",
              "      <td>45</td>\n",
              "      <td>2013-07-05</td>\n",
              "      <td>77.50</td>\n",
              "      <td>3.614</td>\n",
              "      <td>9090.48</td>\n",
              "      <td>2268.58</td>\n",
              "      <td>582.74</td>\n",
              "      <td>5797.47</td>\n",
              "      <td>1514.93</td>\n",
              "      <td>NaN</td>\n",
              "      <td>NaN</td>\n",
              "      <td>False</td>\n",
              "    </tr>\n",
              "    <tr>\n",
              "      <th>8187</th>\n",
              "      <td>45</td>\n",
              "      <td>2013-07-12</td>\n",
              "      <td>79.37</td>\n",
              "      <td>3.614</td>\n",
              "      <td>3789.94</td>\n",
              "      <td>1827.31</td>\n",
              "      <td>85.72</td>\n",
              "      <td>744.84</td>\n",
              "      <td>2150.36</td>\n",
              "      <td>NaN</td>\n",
              "      <td>NaN</td>\n",
              "      <td>False</td>\n",
              "    </tr>\n",
              "    <tr>\n",
              "      <th>8188</th>\n",
              "      <td>45</td>\n",
              "      <td>2013-07-19</td>\n",
              "      <td>82.84</td>\n",
              "      <td>3.737</td>\n",
              "      <td>2961.49</td>\n",
              "      <td>1047.07</td>\n",
              "      <td>204.19</td>\n",
              "      <td>363.00</td>\n",
              "      <td>1059.46</td>\n",
              "      <td>NaN</td>\n",
              "      <td>NaN</td>\n",
              "      <td>False</td>\n",
              "    </tr>\n",
              "    <tr>\n",
              "      <th>8189</th>\n",
              "      <td>45</td>\n",
              "      <td>2013-07-26</td>\n",
              "      <td>76.06</td>\n",
              "      <td>3.804</td>\n",
              "      <td>212.02</td>\n",
              "      <td>851.73</td>\n",
              "      <td>2.06</td>\n",
              "      <td>10.88</td>\n",
              "      <td>1864.57</td>\n",
              "      <td>NaN</td>\n",
              "      <td>NaN</td>\n",
              "      <td>False</td>\n",
              "    </tr>\n",
              "  </tbody>\n",
              "</table>\n",
              "<p>8190 rows × 12 columns</p>\n",
              "</div>"
            ],
            "text/plain": [
              "      Store        Date  Temperature  ...         CPI  Unemployment  IsHoliday\n",
              "0         1  2010-02-05        42.31  ...  211.096358         8.106      False\n",
              "1         1  2010-02-12        38.51  ...  211.242170         8.106       True\n",
              "2         1  2010-02-19        39.93  ...  211.289143         8.106      False\n",
              "3         1  2010-02-26        46.63  ...  211.319643         8.106      False\n",
              "4         1  2010-03-05        46.50  ...  211.350143         8.106      False\n",
              "...     ...         ...          ...  ...         ...           ...        ...\n",
              "8185     45  2013-06-28        76.05  ...         NaN           NaN      False\n",
              "8186     45  2013-07-05        77.50  ...         NaN           NaN      False\n",
              "8187     45  2013-07-12        79.37  ...         NaN           NaN      False\n",
              "8188     45  2013-07-19        82.84  ...         NaN           NaN      False\n",
              "8189     45  2013-07-26        76.06  ...         NaN           NaN      False\n",
              "\n",
              "[8190 rows x 12 columns]"
            ]
          },
          "metadata": {
            "tags": []
          },
          "execution_count": 15
        }
      ]
    },
    {
      "cell_type": "markdown",
      "metadata": {
        "id": "sSVmCm8dpmfy"
      },
      "source": [
        "## 변수 확인"
      ]
    },
    {
      "cell_type": "markdown",
      "metadata": {
        "id": "m9vzZZnM6nmV"
      },
      "source": [
        "* train set/test set의 변수들   \r\n",
        "\\- **Store : the store number(45개의 월마트 매장)**  \r\n",
        "\\- Dept : the department number(각 매장의 판매 부서(코너)별 매출)  \r\n",
        "\\- Date : the week  \r\n",
        "\\- Weekly_Sales :  sales for the given department in the given store / target으로 train에만 있습니다.  \r\n",
        "\\- IsHoliday : whether the week is a special holiday week(실제로 명절이나 주말과 공휴일이 포함된 연휴 기간에는 매출이 올라가게 됩니다.)  \r\n",
        "\r\n",
        "* features의 변수들  \r\n",
        "\\- **Store : the store number(45개의 월마트 매장)**  \r\n",
        "\\- Date : the week  \r\n",
        "\\- Temperature : average temperature in the region(날씨와도 연관이 될 것 같습니다.)  \r\n",
        "\\- Fuel_Price : cost of fuel in the region(경제적 상황과 연관이 있을 것 같습니다.)  \r\n",
        "\\- MarkDown1-5 : anonymized data related to promotional markdowns that Walmart is running.   \r\n",
        "MarkDown data is only available after Nov 2011, and is not available for all stores all the time. Any missing value is marked with an NA.  \r\n",
        "\\- CPI : the consumer price index  \r\n",
        "\\- Unemployment : the unemployment rate  \r\n",
        "\\- IsHoliday : whether the week is a special holiday week  \r\n",
        "\r\n",
        "* stores의 변수들  \r\n",
        "\\- **Store : the store number(45개의 월마트 매장)**  \r\n",
        "\\- Type : 가게의 종류 정도로 생각하면 될 것 같습니다.  \r\n",
        "\\- Size : 가게의 크기로 생각됩니다.\r\n"
      ]
    },
    {
      "cell_type": "markdown",
      "metadata": {
        "id": "Q4bslWWphyS7"
      },
      "source": [
        "주어진 4가지의 데이터를 살펴보면 test에 주어진 날짜들의 store별 department 별 매출을 예측하기 위해서 기존의 train set에 추가적인 정보들을 제고하는 features와 stores의 자료들을 사용해야함을 알 수 있습니다.   \r\n",
        "주어진 데이터들로부터 store별 department별 주간 매출액을 예측하기 위해서 사용할 수 있도록 주어진 변수들을 살펴보면 다음과 같습니다.  "
      ]
    },
    {
      "cell_type": "markdown",
      "metadata": {
        "id": "T2TPEMdJjpII"
      },
      "source": [
        "Store : 월마트 매장의 번호(주어진 모든 데이터에 공통으로 들어있음, 이를 기준으로 join)  \r\n",
        "Dept : 월마트 내 판매코너의 번호  \r\n",
        "IsHoliday : 매출이 잡힌 주가 공휴일이 있는 주인지 여부  \r\n",
        "모든 공휴일이 아니라 다음과 같은 공휴일만을 고려한 데이터입니다.  \r\n",
        ">Super Bowl: 12-Feb-10, 11-Feb-11, 10-Feb-12, 8-Feb-13  \r\n",
        "Labor Day: 10-Sep-10, 9-Sep-11, 7-Sep-12, 6-Sep-13  \r\n",
        "Thanksgiving: 26-Nov-10, 25-Nov-11, 23-Nov-12, 29-Nov-13  \r\n",
        "Christmas: 31-Dec-10, 30-Dec-11, 28-Dec-12, 27-Dec-13  \r\n",
        "\r\n",
        "Temperature : 해당 매장의 지역의 평균 기온  \r\n",
        "MarkDown1\\~5 : 판촉할인 정보  \r\n",
        ">  Nov 2011부터 데이터 잡히고 모든 매장에서 시행된 것은 아니라 사용하기 어려워 보입니다.    \r\n",
        "\r\n",
        "Fuel_Price : 유가, 사회 전반적 지표, 유가 상승 -> 소비 위축 / 제품 가격 상승  \r\n",
        "CPI : 소비자물가지수 /  가정이 소비하기 위해 구입하는 재화와 용역의 평균 가격을 측정한 지수  \r\n",
        "Unemployment : 실업률  \r\n",
        "Type : 매장 종류  \r\n",
        "Size : 매장 크기   \r\n",
        "이들 중 Fuel_Price와 CPI는 경기 전반에 관한 내용으로 생각할 수 있습니다.    \r\n",
        "\r\n",
        "\r\n"
      ]
    },
    {
      "cell_type": "code",
      "metadata": {
        "colab": {
          "base_uri": "https://localhost:8080/"
        },
        "id": "tLUa8i-Rppjl",
        "outputId": "b9e53e3d-a819-419e-8093-26d4857f8a7c"
      },
      "source": [
        "train.dtypes"
      ],
      "execution_count": 24,
      "outputs": [
        {
          "output_type": "execute_result",
          "data": {
            "text/plain": [
              "Store             int64\n",
              "Dept              int64\n",
              "Date             object\n",
              "Weekly_Sales    float64\n",
              "IsHoliday          bool\n",
              "dtype: object"
            ]
          },
          "metadata": {
            "tags": []
          },
          "execution_count": 24
        }
      ]
    },
    {
      "cell_type": "code",
      "metadata": {
        "colab": {
          "base_uri": "https://localhost:8080/"
        },
        "id": "Vai0Gg5ppq8D",
        "outputId": "c17f6d8b-10c0-4b6e-8dfc-be2c43fde739"
      },
      "source": [
        "test.dtypes"
      ],
      "execution_count": 25,
      "outputs": [
        {
          "output_type": "execute_result",
          "data": {
            "text/plain": [
              "Store         int64\n",
              "Dept          int64\n",
              "Date         object\n",
              "IsHoliday      bool\n",
              "dtype: object"
            ]
          },
          "metadata": {
            "tags": []
          },
          "execution_count": 25
        }
      ]
    },
    {
      "cell_type": "code",
      "metadata": {
        "colab": {
          "base_uri": "https://localhost:8080/"
        },
        "id": "g0i7stWSps1A",
        "outputId": "39a80f90-bd25-4e7f-a3fb-7d94c551d86b"
      },
      "source": [
        "stores.dtypes"
      ],
      "execution_count": 26,
      "outputs": [
        {
          "output_type": "execute_result",
          "data": {
            "text/plain": [
              "Store     int64\n",
              "Type     object\n",
              "Size      int64\n",
              "dtype: object"
            ]
          },
          "metadata": {
            "tags": []
          },
          "execution_count": 26
        }
      ]
    },
    {
      "cell_type": "code",
      "metadata": {
        "colab": {
          "base_uri": "https://localhost:8080/"
        },
        "id": "-y1EcY1Jpuo5",
        "outputId": "746bccb5-8ed3-4f5d-9c15-01482127e19a"
      },
      "source": [
        "feat.dtypes"
      ],
      "execution_count": 27,
      "outputs": [
        {
          "output_type": "execute_result",
          "data": {
            "text/plain": [
              "Store             int64\n",
              "Date             object\n",
              "Temperature     float64\n",
              "Fuel_Price      float64\n",
              "MarkDown1       float64\n",
              "MarkDown2       float64\n",
              "MarkDown3       float64\n",
              "MarkDown4       float64\n",
              "MarkDown5       float64\n",
              "CPI             float64\n",
              "Unemployment    float64\n",
              "IsHoliday          bool\n",
              "dtype: object"
            ]
          },
          "metadata": {
            "tags": []
          },
          "execution_count": 27
        }
      ]
    },
    {
      "cell_type": "markdown",
      "metadata": {
        "id": "PJgOKtXcp9Zd"
      },
      "source": [
        "변수들의 타입을 확인해보면 트리기반 회귀모형을 사용할 것이므로 다른 변수들은 두고 Date 변수가 object로 잡혀있어 이를 연도와 월로 처리할 필요성이 있어보입니다."
      ]
    },
    {
      "cell_type": "markdown",
      "metadata": {
        "id": "cLrCL7amtNG6"
      },
      "source": [
        "### target 변수 확인"
      ]
    },
    {
      "cell_type": "code",
      "metadata": {
        "id": "jRcswL1e6oWl"
      },
      "source": [
        "target = 'Weekly_Sales'"
      ],
      "execution_count": 47,
      "outputs": []
    },
    {
      "cell_type": "code",
      "metadata": {
        "colab": {
          "base_uri": "https://localhost:8080/",
          "height": 441
        },
        "id": "2sjOETgNtPV2",
        "outputId": "d9e802d0-21ba-4aba-edc3-c07d2999e3b6"
      },
      "source": [
        "sns.displot(train[target], height=6, aspect=3);"
      ],
      "execution_count": 48,
      "outputs": [
        {
          "output_type": "display_data",
          "data": {
            "image/png": "[encoded data removed]",
            "text/plain": [
              "<Figure size 1296x432 with 1 Axes>"
            ]
          },
          "metadata": {
            "tags": [],
            "needs_background": "light"
          }
        }
      ]
    },
    {
      "cell_type": "code",
      "metadata": {
        "colab": {
          "base_uri": "https://localhost:8080/"
        },
        "id": "F7ZBDJlWuve8",
        "outputId": "61a0409c-1b8c-4ff4-b7da-405d31e4f013"
      },
      "source": [
        "train[target].max()"
      ],
      "execution_count": 49,
      "outputs": [
        {
          "output_type": "execute_result",
          "data": {
            "text/plain": [
              "693099.36"
            ]
          },
          "metadata": {
            "tags": []
          },
          "execution_count": 49
        }
      ]
    },
    {
      "cell_type": "code",
      "metadata": {
        "colab": {
          "base_uri": "https://localhost:8080/"
        },
        "id": "GMF7p6rpu9O0",
        "outputId": "c8115def-6f66-4421-bac9-ed6abb6ffe65"
      },
      "source": [
        "train[target].min()"
      ],
      "execution_count": 50,
      "outputs": [
        {
          "output_type": "execute_result",
          "data": {
            "text/plain": [
              "-4988.94"
            ]
          },
          "metadata": {
            "tags": []
          },
          "execution_count": 50
        }
      ]
    },
    {
      "cell_type": "markdown",
      "metadata": {
        "id": "gAoyCbJMuuj4"
      },
      "source": [
        "Weekly_Sales의 분포가 불균형적임을 확인했습니다.  \r\n",
        "이를 해소하기 위해서 log 변환 등을 사용해보겠습니다.  \r\n",
        "또한 현재 음수인 값이 있어 0보다 큰 값만을 추려 사용해야함을 확인했습니다.  "
      ]
    },
    {
      "cell_type": "code",
      "metadata": {
        "colab": {
          "base_uri": "https://localhost:8080/",
          "height": 369
        },
        "id": "KgPg9hha6ET5",
        "outputId": "a46913a7-bae4-4507-f626-0f62d5aed4ac"
      },
      "source": [
        "sns.displot(np.log1p( train[train[target] >0][target] ));"
      ],
      "execution_count": 51,
      "outputs": [
        {
          "output_type": "display_data",
          "data": {
            "image/png": "[encoded data removed]",
            "text/plain": [
              "<Figure size 360x360 with 1 Axes>"
            ]
          },
          "metadata": {
            "tags": [],
            "needs_background": "light"
          }
        }
      ]
    },
    {
      "cell_type": "markdown",
      "metadata": {
        "id": "RO2ZBOKR6y7M"
      },
      "source": [
        "기존의 Weekly_Sales값들 중 0보다 큰 값에 대해 로그변환을 사용해보니  \r\n",
        "기존의 데이터보다 치우침이 많이 완화되었음을 확인할 수 있습니다.  "
      ]
    },
    {
      "cell_type": "code",
      "metadata": {
        "colab": {
          "base_uri": "https://localhost:8080/",
          "height": 863
        },
        "id": "jY7vJfTJ8qSe",
        "outputId": "0fc3c60f-164e-4fe7-a751-ac0e0c997196"
      },
      "source": [
        "plt.figure(figsize=(10,15))\r\n",
        "train.groupby(['Store'])[target].mean().sort_values().plot.barh();"
      ],
      "execution_count": 59,
      "outputs": [
        {
          "output_type": "display_data",
          "data": {
            "image/png": "[encoded data removed]",
            "text/plain": [
              "<Figure size 720x1080 with 1 Axes>"
            ]
          },
          "metadata": {
            "tags": [],
            "needs_background": "light"
          }
        }
      ]
    },
    {
      "cell_type": "markdown",
      "metadata": {
        "id": "mhJE8FVF8s4B"
      },
      "source": [
        "매장별 평균 주간 매출액을 비교해보니 매장별로 매출의 차이가 현저하게 남을 알 수 있습니다.  \r\n",
        "이를 통해서 주간 매출액의 예측할 때 **어떤 매장인지**도 중요한 요소로 작용할 수 있을 것 같습니다. "
      ]
    },
    {
      "cell_type": "code",
      "metadata": {
        "colab": {
          "base_uri": "https://localhost:8080/",
          "height": 863
        },
        "id": "3XUTmpXq91eg",
        "outputId": "25de6695-c50f-472d-e7c7-60e49b68a557"
      },
      "source": [
        "plt.figure(figsize=(10,15))\r\n",
        "train.groupby(['Dept'])[target].mean().sort_values().plot.barh();"
      ],
      "execution_count": 61,
      "outputs": [
        {
          "output_type": "display_data",
          "data": {
            "image/png": "[encoded data removed]",
            "text/plain": [
              "<Figure size 720x1080 with 1 Axes>"
            ]
          },
          "metadata": {
            "tags": [],
            "needs_background": "light"
          }
        }
      ]
    },
    {
      "cell_type": "markdown",
      "metadata": {
        "id": "lAYRq_FH942g"
      },
      "source": [
        "판매 부서(코너)별로도 평균 주간 매출액의 차이가 현저하기 나타남을 알 수 있었습니다.  \r\n",
        "이를 좀 더 해석해보면 해당 판매 코너에서 판매하는 품목에 따라 주간 매출액이 달라짐을 확인할 수 있습니다. "
      ]
    },
    {
      "cell_type": "code",
      "metadata": {
        "colab": {
          "base_uri": "https://localhost:8080/",
          "height": 265
        },
        "id": "MKc9j1x99co6",
        "outputId": "21a0bbe7-b1be-48f9-fb70-03517a98fb7a"
      },
      "source": [
        "train.groupby(['IsHoliday'])[target].mean().sort_values().plot.barh();"
      ],
      "execution_count": 60,
      "outputs": [
        {
          "output_type": "display_data",
          "data": {
            "image/png": "[encoded data removed]",
            "text/plain": [
              "<Figure size 432x288 with 1 Axes>"
            ]
          },
          "metadata": {
            "tags": [],
            "needs_background": "light"
          }
        }
      ]
    },
    {
      "cell_type": "markdown",
      "metadata": {
        "id": "YKo7i4lt9mHL"
      },
      "source": [
        "해당 주에 공휴일이 있는지 여부에 따른 주간 매출의 차이를 살펴보니 차이가 있긴 하지만 유의미한 차이가 있을지는 확인해봐야할 것 같습니다. "
      ]
    },
    {
      "cell_type": "markdown",
      "metadata": {
        "id": "Yzro-sOv-SeD"
      },
      "source": [
        "나머지 feature들과 target과의 관계는 데이터를 병합하고 전처리를 통해 새로운 변수를 만들어내면서 확인해보도록 하겠습니다. "
      ]
    },
    {
      "cell_type": "markdown",
      "metadata": {
        "id": "TZAyuEpifBLF"
      },
      "source": [
        "## 결측치 확인"
      ]
    },
    {
      "cell_type": "code",
      "metadata": {
        "colab": {
          "base_uri": "https://localhost:8080/"
        },
        "id": "NXt67xUi71e1",
        "outputId": "a0221f55-26be-49e3-abe5-f4e35867137b"
      },
      "source": [
        "[(x, train[x].isnull().sum()) for x in train.columns if train[x].isnull().any()]"
      ],
      "execution_count": 16,
      "outputs": [
        {
          "output_type": "execute_result",
          "data": {
            "text/plain": [
              "[]"
            ]
          },
          "metadata": {
            "tags": []
          },
          "execution_count": 16
        }
      ]
    },
    {
      "cell_type": "code",
      "metadata": {
        "colab": {
          "base_uri": "https://localhost:8080/"
        },
        "id": "-RJRP-anfDqX",
        "outputId": "be2c4b7d-1b55-4651-a4d6-ebbaf7398f20"
      },
      "source": [
        "[(x, test[x].isnull().sum()) for x in test.columns if test[x].isnull().any()]"
      ],
      "execution_count": 17,
      "outputs": [
        {
          "output_type": "execute_result",
          "data": {
            "text/plain": [
              "[]"
            ]
          },
          "metadata": {
            "tags": []
          },
          "execution_count": 17
        }
      ]
    },
    {
      "cell_type": "code",
      "metadata": {
        "colab": {
          "base_uri": "https://localhost:8080/"
        },
        "id": "_Yoh9yGhfp6_",
        "outputId": "98477201-0f74-455c-a8c3-c7b2f8340684"
      },
      "source": [
        "[(x, stores[x].isnull().sum()) for x in stores.columns if stores[x].isnull().any()]"
      ],
      "execution_count": 18,
      "outputs": [
        {
          "output_type": "execute_result",
          "data": {
            "text/plain": [
              "[]"
            ]
          },
          "metadata": {
            "tags": []
          },
          "execution_count": 18
        }
      ]
    },
    {
      "cell_type": "code",
      "metadata": {
        "colab": {
          "base_uri": "https://localhost:8080/"
        },
        "id": "jbscm7lzfri-",
        "outputId": "dc6b9e65-2147-457f-a3a2-dd93fdf443b0"
      },
      "source": [
        "[(x, feat[x].isnull().sum()) for x in feat.columns if feat[x].isnull().any()]"
      ],
      "execution_count": 19,
      "outputs": [
        {
          "output_type": "execute_result",
          "data": {
            "text/plain": [
              "[('MarkDown1', 4158),\n",
              " ('MarkDown2', 5269),\n",
              " ('MarkDown3', 4577),\n",
              " ('MarkDown4', 4726),\n",
              " ('MarkDown5', 4140),\n",
              " ('CPI', 585),\n",
              " ('Unemployment', 585)]"
            ]
          },
          "metadata": {
            "tags": []
          },
          "execution_count": 19
        }
      ]
    },
    {
      "cell_type": "code",
      "metadata": {
        "colab": {
          "base_uri": "https://localhost:8080/"
        },
        "id": "QfkNt69qjfb5",
        "outputId": "0f6096b3-ad0a-4c60-b03a-9e4b33df09a8"
      },
      "source": [
        "feat.shape"
      ],
      "execution_count": 20,
      "outputs": [
        {
          "output_type": "execute_result",
          "data": {
            "text/plain": [
              "(8190, 12)"
            ]
          },
          "metadata": {
            "tags": []
          },
          "execution_count": 20
        }
      ]
    },
    {
      "cell_type": "markdown",
      "metadata": {
        "id": "bgfBH0Qoftu1"
      },
      "source": [
        "다른 데이터들은 결측치가 현재 존재하지 않지만 features 데이터에 12개의 변수들 중 7개의 변수에 결측치가 존재함을 확인할 수 있습니다.   \r\n",
        "특히 MarkDown 변수들은 데이터의 절반 가까이가 결측치임을 확인할 수 있습니다. \r\n",
        "이는 총 데이터의 기간인 2010-02-05 \\~ 2013-07-26 중   \r\n",
        "2011년 11월부터 데이터가 잡혔으며 이러한 이유로 2011년 11월 이전과 이후의 데이터들 중 판촉할인의 영향력을 구분지어 사용하기 어려워보여 MarkDown 변수들을 사용하지 못할 것 같습니다.  "
      ]
    },
    {
      "cell_type": "code",
      "metadata": {
        "colab": {
          "base_uri": "https://localhost:8080/",
          "height": 399
        },
        "id": "hI42S9Plfs6Z",
        "outputId": "72b8fc01-cf5b-4ed4-ca3d-af39247e382d"
      },
      "source": [
        "feat"
      ],
      "execution_count": 21,
      "outputs": [
        {
          "output_type": "execute_result",
          "data": {
            "text/html": [
              "<div>\n",
              "<style scoped>\n",
              "    .dataframe tbody tr th:only-of-type {\n",
              "        vertical-align: middle;\n",
              "    }\n",
              "\n",
              "    .dataframe tbody tr th {\n",
              "        vertical-align: top;\n",
              "    }\n",
              "\n",
              "    .dataframe thead th {\n",
              "        text-align: right;\n",
              "    }\n",
              "</style>\n",
              "<table border=\"1\" class=\"dataframe\">\n",
              "  <thead>\n",
              "    <tr style=\"text-align: right;\">\n",
              "      <th></th>\n",
              "      <th>Store</th>\n",
              "      <th>Date</th>\n",
              "      <th>Temperature</th>\n",
              "      <th>Fuel_Price</th>\n",
              "      <th>MarkDown1</th>\n",
              "      <th>MarkDown2</th>\n",
              "      <th>MarkDown3</th>\n",
              "      <th>MarkDown4</th>\n",
              "      <th>MarkDown5</th>\n",
              "      <th>CPI</th>\n",
              "      <th>Unemployment</th>\n",
              "      <th>IsHoliday</th>\n",
              "    </tr>\n",
              "  </thead>\n",
              "  <tbody>\n",
              "    <tr>\n",
              "      <th>0</th>\n",
              "      <td>1</td>\n",
              "      <td>2010-02-05</td>\n",
              "      <td>42.31</td>\n",
              "      <td>2.572</td>\n",
              "      <td>NaN</td>\n",
              "      <td>NaN</td>\n",
              "      <td>NaN</td>\n",
              "      <td>NaN</td>\n",
              "      <td>NaN</td>\n",
              "      <td>211.096358</td>\n",
              "      <td>8.106</td>\n",
              "      <td>False</td>\n",
              "    </tr>\n",
              "    <tr>\n",
              "      <th>1</th>\n",
              "      <td>1</td>\n",
              "      <td>2010-02-12</td>\n",
              "      <td>38.51</td>\n",
              "      <td>2.548</td>\n",
              "      <td>NaN</td>\n",
              "      <td>NaN</td>\n",
              "      <td>NaN</td>\n",
              "      <td>NaN</td>\n",
              "      <td>NaN</td>\n",
              "      <td>211.242170</td>\n",
              "      <td>8.106</td>\n",
              "      <td>True</td>\n",
              "    </tr>\n",
              "    <tr>\n",
              "      <th>2</th>\n",
              "      <td>1</td>\n",
              "      <td>2010-02-19</td>\n",
              "      <td>39.93</td>\n",
              "      <td>2.514</td>\n",
              "      <td>NaN</td>\n",
              "      <td>NaN</td>\n",
              "      <td>NaN</td>\n",
              "      <td>NaN</td>\n",
              "      <td>NaN</td>\n",
              "      <td>211.289143</td>\n",
              "      <td>8.106</td>\n",
              "      <td>False</td>\n",
              "    </tr>\n",
              "    <tr>\n",
              "      <th>3</th>\n",
              "      <td>1</td>\n",
              "      <td>2010-02-26</td>\n",
              "      <td>46.63</td>\n",
              "      <td>2.561</td>\n",
              "      <td>NaN</td>\n",
              "      <td>NaN</td>\n",
              "      <td>NaN</td>\n",
              "      <td>NaN</td>\n",
              "      <td>NaN</td>\n",
              "      <td>211.319643</td>\n",
              "      <td>8.106</td>\n",
              "      <td>False</td>\n",
              "    </tr>\n",
              "    <tr>\n",
              "      <th>4</th>\n",
              "      <td>1</td>\n",
              "      <td>2010-03-05</td>\n",
              "      <td>46.50</td>\n",
              "      <td>2.625</td>\n",
              "      <td>NaN</td>\n",
              "      <td>NaN</td>\n",
              "      <td>NaN</td>\n",
              "      <td>NaN</td>\n",
              "      <td>NaN</td>\n",
              "      <td>211.350143</td>\n",
              "      <td>8.106</td>\n",
              "      <td>False</td>\n",
              "    </tr>\n",
              "    <tr>\n",
              "      <th>...</th>\n",
              "      <td>...</td>\n",
              "      <td>...</td>\n",
              "      <td>...</td>\n",
              "      <td>...</td>\n",
              "      <td>...</td>\n",
              "      <td>...</td>\n",
              "      <td>...</td>\n",
              "      <td>...</td>\n",
              "      <td>...</td>\n",
              "      <td>...</td>\n",
              "      <td>...</td>\n",
              "      <td>...</td>\n",
              "    </tr>\n",
              "    <tr>\n",
              "      <th>8185</th>\n",
              "      <td>45</td>\n",
              "      <td>2013-06-28</td>\n",
              "      <td>76.05</td>\n",
              "      <td>3.639</td>\n",
              "      <td>4842.29</td>\n",
              "      <td>975.03</td>\n",
              "      <td>3.00</td>\n",
              "      <td>2449.97</td>\n",
              "      <td>3169.69</td>\n",
              "      <td>NaN</td>\n",
              "      <td>NaN</td>\n",
              "      <td>False</td>\n",
              "    </tr>\n",
              "    <tr>\n",
              "      <th>8186</th>\n",
              "      <td>45</td>\n",
              "      <td>2013-07-05</td>\n",
              "      <td>77.50</td>\n",
              "      <td>3.614</td>\n",
              "      <td>9090.48</td>\n",
              "      <td>2268.58</td>\n",
              "      <td>582.74</td>\n",
              "      <td>5797.47</td>\n",
              "      <td>1514.93</td>\n",
              "      <td>NaN</td>\n",
              "      <td>NaN</td>\n",
              "      <td>False</td>\n",
              "    </tr>\n",
              "    <tr>\n",
              "      <th>8187</th>\n",
              "      <td>45</td>\n",
              "      <td>2013-07-12</td>\n",
              "      <td>79.37</td>\n",
              "      <td>3.614</td>\n",
              "      <td>3789.94</td>\n",
              "      <td>1827.31</td>\n",
              "      <td>85.72</td>\n",
              "      <td>744.84</td>\n",
              "      <td>2150.36</td>\n",
              "      <td>NaN</td>\n",
              "      <td>NaN</td>\n",
              "      <td>False</td>\n",
              "    </tr>\n",
              "    <tr>\n",
              "      <th>8188</th>\n",
              "      <td>45</td>\n",
              "      <td>2013-07-19</td>\n",
              "      <td>82.84</td>\n",
              "      <td>3.737</td>\n",
              "      <td>2961.49</td>\n",
              "      <td>1047.07</td>\n",
              "      <td>204.19</td>\n",
              "      <td>363.00</td>\n",
              "      <td>1059.46</td>\n",
              "      <td>NaN</td>\n",
              "      <td>NaN</td>\n",
              "      <td>False</td>\n",
              "    </tr>\n",
              "    <tr>\n",
              "      <th>8189</th>\n",
              "      <td>45</td>\n",
              "      <td>2013-07-26</td>\n",
              "      <td>76.06</td>\n",
              "      <td>3.804</td>\n",
              "      <td>212.02</td>\n",
              "      <td>851.73</td>\n",
              "      <td>2.06</td>\n",
              "      <td>10.88</td>\n",
              "      <td>1864.57</td>\n",
              "      <td>NaN</td>\n",
              "      <td>NaN</td>\n",
              "      <td>False</td>\n",
              "    </tr>\n",
              "  </tbody>\n",
              "</table>\n",
              "<p>8190 rows × 12 columns</p>\n",
              "</div>"
            ],
            "text/plain": [
              "      Store        Date  Temperature  ...         CPI  Unemployment  IsHoliday\n",
              "0         1  2010-02-05        42.31  ...  211.096358         8.106      False\n",
              "1         1  2010-02-12        38.51  ...  211.242170         8.106       True\n",
              "2         1  2010-02-19        39.93  ...  211.289143         8.106      False\n",
              "3         1  2010-02-26        46.63  ...  211.319643         8.106      False\n",
              "4         1  2010-03-05        46.50  ...  211.350143         8.106      False\n",
              "...     ...         ...          ...  ...         ...           ...        ...\n",
              "8185     45  2013-06-28        76.05  ...         NaN           NaN      False\n",
              "8186     45  2013-07-05        77.50  ...         NaN           NaN      False\n",
              "8187     45  2013-07-12        79.37  ...         NaN           NaN      False\n",
              "8188     45  2013-07-19        82.84  ...         NaN           NaN      False\n",
              "8189     45  2013-07-26        76.06  ...         NaN           NaN      False\n",
              "\n",
              "[8190 rows x 12 columns]"
            ]
          },
          "metadata": {
            "tags": []
          },
          "execution_count": 21
        }
      ]
    },
    {
      "cell_type": "markdown",
      "metadata": {
        "id": "yq1MoHyA-boN"
      },
      "source": [
        "MarkDown 변수들은 삭제할 것이므로 남은 결측치가 포함된 변수들은 CPI(소비자물가지수)와 Unemployment(실업률)로 이들은 수치형 변수이므로 평균값을 이용해 대치하면 좋을 것 같습니다. "
      ]
    },
    {
      "cell_type": "markdown",
      "metadata": {
        "id": "oKq3cE4gs1Iq"
      },
      "source": [
        "## 데이터 병합 및 전처리"
      ]
    },
    {
      "cell_type": "markdown",
      "metadata": {
        "id": "JheA_m3d-s_V"
      },
      "source": [
        "\\* 생각해 본 전처리  \r\n",
        "\\- train set과 test set에 각각 stores와 features를 left join해 데이터셋을 새로 구성  \r\n",
        "\\- features의 markdown1 ~ markdown5 제거 (결측치도 많고 데이터가 총 기간의 중간부터 수집되어 사용하기 어려워보임)  \r\n",
        "\\- yyyy-mm-dd 형태의 date 변수를 year와 month만 따로 추출  \r\n",
        "\\- 트리 기반 모델을 사용할 예정이므로  object   타입으로 남은 'Type'변수만 더미변수화  \r\n",
        "\\- 평균값을 이용한 결측치 대치 ~ pipeline을 이용해 사용"
      ]
    },
    {
      "cell_type": "code",
      "metadata": {
        "id": "CWRBRvkPmgFL"
      },
      "source": [
        "def prepro_train(x) :\r\n",
        "    X = x.copy()\r\n",
        "    X = X[X['Weekly_Sales'] >0] # target값 >0 인 것들만 사용\r\n",
        "    X = X.merge(feat,  how = 'left').merge(stores,  how = 'left') # 추가로 주어진 데이터들 병합해 사용\r\n",
        "\r\n",
        "    X['Year'] = pd.to_datetime(X['Date']).dt.year # Date 중 연도만 따로 추출\r\n",
        "    X['Month'] = pd.to_datetime(X['Date']).dt.month # Date 중 월만 따로 추출\r\n",
        "\r\n",
        "    X.drop(columns=['Date', 'MarkDown1', 'MarkDown2', 'MarkDown3', 'MarkDown4', 'MarkDown5'], inplace = True) # 사용하지 않을 변수 삭제\r\n",
        "\r\n",
        "    X = pd.get_dummies(X, columns = ['Type']) # object 변수형 가진 'Type'을 더미변수화\r\n",
        "    return X"
      ],
      "execution_count": 62,
      "outputs": []
    },
    {
      "cell_type": "code",
      "metadata": {
        "colab": {
          "base_uri": "https://localhost:8080/",
          "height": 399
        },
        "id": "mN2hCMnG_n4_",
        "outputId": "3abd29c1-c189-499b-b89b-fac8711374ed"
      },
      "source": [
        "prepro_train(train)"
      ],
      "execution_count": 63,
      "outputs": [
        {
          "output_type": "execute_result",
          "data": {
            "text/html": [
              "<div>\n",
              "<style scoped>\n",
              "    .dataframe tbody tr th:only-of-type {\n",
              "        vertical-align: middle;\n",
              "    }\n",
              "\n",
              "    .dataframe tbody tr th {\n",
              "        vertical-align: top;\n",
              "    }\n",
              "\n",
              "    .dataframe thead th {\n",
              "        text-align: right;\n",
              "    }\n",
              "</style>\n",
              "<table border=\"1\" class=\"dataframe\">\n",
              "  <thead>\n",
              "    <tr style=\"text-align: right;\">\n",
              "      <th></th>\n",
              "      <th>Store</th>\n",
              "      <th>Dept</th>\n",
              "      <th>Weekly_Sales</th>\n",
              "      <th>IsHoliday</th>\n",
              "      <th>Temperature</th>\n",
              "      <th>Fuel_Price</th>\n",
              "      <th>CPI</th>\n",
              "      <th>Unemployment</th>\n",
              "      <th>Size</th>\n",
              "      <th>Year</th>\n",
              "      <th>Month</th>\n",
              "      <th>Type_A</th>\n",
              "      <th>Type_B</th>\n",
              "      <th>Type_C</th>\n",
              "    </tr>\n",
              "  </thead>\n",
              "  <tbody>\n",
              "    <tr>\n",
              "      <th>0</th>\n",
              "      <td>1</td>\n",
              "      <td>1</td>\n",
              "      <td>24924.50</td>\n",
              "      <td>False</td>\n",
              "      <td>42.31</td>\n",
              "      <td>2.572</td>\n",
              "      <td>211.096358</td>\n",
              "      <td>8.106</td>\n",
              "      <td>151315</td>\n",
              "      <td>2010</td>\n",
              "      <td>2</td>\n",
              "      <td>1</td>\n",
              "      <td>0</td>\n",
              "      <td>0</td>\n",
              "    </tr>\n",
              "    <tr>\n",
              "      <th>1</th>\n",
              "      <td>1</td>\n",
              "      <td>1</td>\n",
              "      <td>46039.49</td>\n",
              "      <td>True</td>\n",
              "      <td>38.51</td>\n",
              "      <td>2.548</td>\n",
              "      <td>211.242170</td>\n",
              "      <td>8.106</td>\n",
              "      <td>151315</td>\n",
              "      <td>2010</td>\n",
              "      <td>2</td>\n",
              "      <td>1</td>\n",
              "      <td>0</td>\n",
              "      <td>0</td>\n",
              "    </tr>\n",
              "    <tr>\n",
              "      <th>2</th>\n",
              "      <td>1</td>\n",
              "      <td>1</td>\n",
              "      <td>41595.55</td>\n",
              "      <td>False</td>\n",
              "      <td>39.93</td>\n",
              "      <td>2.514</td>\n",
              "      <td>211.289143</td>\n",
              "      <td>8.106</td>\n",
              "      <td>151315</td>\n",
              "      <td>2010</td>\n",
              "      <td>2</td>\n",
              "      <td>1</td>\n",
              "      <td>0</td>\n",
              "      <td>0</td>\n",
              "    </tr>\n",
              "    <tr>\n",
              "      <th>3</th>\n",
              "      <td>1</td>\n",
              "      <td>1</td>\n",
              "      <td>19403.54</td>\n",
              "      <td>False</td>\n",
              "      <td>46.63</td>\n",
              "      <td>2.561</td>\n",
              "      <td>211.319643</td>\n",
              "      <td>8.106</td>\n",
              "      <td>151315</td>\n",
              "      <td>2010</td>\n",
              "      <td>2</td>\n",
              "      <td>1</td>\n",
              "      <td>0</td>\n",
              "      <td>0</td>\n",
              "    </tr>\n",
              "    <tr>\n",
              "      <th>4</th>\n",
              "      <td>1</td>\n",
              "      <td>1</td>\n",
              "      <td>21827.90</td>\n",
              "      <td>False</td>\n",
              "      <td>46.50</td>\n",
              "      <td>2.625</td>\n",
              "      <td>211.350143</td>\n",
              "      <td>8.106</td>\n",
              "      <td>151315</td>\n",
              "      <td>2010</td>\n",
              "      <td>3</td>\n",
              "      <td>1</td>\n",
              "      <td>0</td>\n",
              "      <td>0</td>\n",
              "    </tr>\n",
              "    <tr>\n",
              "      <th>...</th>\n",
              "      <td>...</td>\n",
              "      <td>...</td>\n",
              "      <td>...</td>\n",
              "      <td>...</td>\n",
              "      <td>...</td>\n",
              "      <td>...</td>\n",
              "      <td>...</td>\n",
              "      <td>...</td>\n",
              "      <td>...</td>\n",
              "      <td>...</td>\n",
              "      <td>...</td>\n",
              "      <td>...</td>\n",
              "      <td>...</td>\n",
              "      <td>...</td>\n",
              "    </tr>\n",
              "    <tr>\n",
              "      <th>420207</th>\n",
              "      <td>45</td>\n",
              "      <td>98</td>\n",
              "      <td>508.37</td>\n",
              "      <td>False</td>\n",
              "      <td>64.88</td>\n",
              "      <td>3.997</td>\n",
              "      <td>192.013558</td>\n",
              "      <td>8.684</td>\n",
              "      <td>118221</td>\n",
              "      <td>2012</td>\n",
              "      <td>9</td>\n",
              "      <td>0</td>\n",
              "      <td>1</td>\n",
              "      <td>0</td>\n",
              "    </tr>\n",
              "    <tr>\n",
              "      <th>420208</th>\n",
              "      <td>45</td>\n",
              "      <td>98</td>\n",
              "      <td>628.10</td>\n",
              "      <td>False</td>\n",
              "      <td>64.89</td>\n",
              "      <td>3.985</td>\n",
              "      <td>192.170412</td>\n",
              "      <td>8.667</td>\n",
              "      <td>118221</td>\n",
              "      <td>2012</td>\n",
              "      <td>10</td>\n",
              "      <td>0</td>\n",
              "      <td>1</td>\n",
              "      <td>0</td>\n",
              "    </tr>\n",
              "    <tr>\n",
              "      <th>420209</th>\n",
              "      <td>45</td>\n",
              "      <td>98</td>\n",
              "      <td>1061.02</td>\n",
              "      <td>False</td>\n",
              "      <td>54.47</td>\n",
              "      <td>4.000</td>\n",
              "      <td>192.327265</td>\n",
              "      <td>8.667</td>\n",
              "      <td>118221</td>\n",
              "      <td>2012</td>\n",
              "      <td>10</td>\n",
              "      <td>0</td>\n",
              "      <td>1</td>\n",
              "      <td>0</td>\n",
              "    </tr>\n",
              "    <tr>\n",
              "      <th>420210</th>\n",
              "      <td>45</td>\n",
              "      <td>98</td>\n",
              "      <td>760.01</td>\n",
              "      <td>False</td>\n",
              "      <td>56.47</td>\n",
              "      <td>3.969</td>\n",
              "      <td>192.330854</td>\n",
              "      <td>8.667</td>\n",
              "      <td>118221</td>\n",
              "      <td>2012</td>\n",
              "      <td>10</td>\n",
              "      <td>0</td>\n",
              "      <td>1</td>\n",
              "      <td>0</td>\n",
              "    </tr>\n",
              "    <tr>\n",
              "      <th>420211</th>\n",
              "      <td>45</td>\n",
              "      <td>98</td>\n",
              "      <td>1076.80</td>\n",
              "      <td>False</td>\n",
              "      <td>58.85</td>\n",
              "      <td>3.882</td>\n",
              "      <td>192.308899</td>\n",
              "      <td>8.667</td>\n",
              "      <td>118221</td>\n",
              "      <td>2012</td>\n",
              "      <td>10</td>\n",
              "      <td>0</td>\n",
              "      <td>1</td>\n",
              "      <td>0</td>\n",
              "    </tr>\n",
              "  </tbody>\n",
              "</table>\n",
              "<p>420212 rows × 14 columns</p>\n",
              "</div>"
            ],
            "text/plain": [
              "        Store  Dept  Weekly_Sales  IsHoliday  ...  Month  Type_A  Type_B  Type_C\n",
              "0           1     1      24924.50      False  ...      2       1       0       0\n",
              "1           1     1      46039.49       True  ...      2       1       0       0\n",
              "2           1     1      41595.55      False  ...      2       1       0       0\n",
              "3           1     1      19403.54      False  ...      2       1       0       0\n",
              "4           1     1      21827.90      False  ...      3       1       0       0\n",
              "...       ...   ...           ...        ...  ...    ...     ...     ...     ...\n",
              "420207     45    98        508.37      False  ...      9       0       1       0\n",
              "420208     45    98        628.10      False  ...     10       0       1       0\n",
              "420209     45    98       1061.02      False  ...     10       0       1       0\n",
              "420210     45    98        760.01      False  ...     10       0       1       0\n",
              "420211     45    98       1076.80      False  ...     10       0       1       0\n",
              "\n",
              "[420212 rows x 14 columns]"
            ]
          },
          "metadata": {
            "tags": []
          },
          "execution_count": 63
        }
      ]
    },
    {
      "cell_type": "code",
      "metadata": {
        "id": "jIMIjQpu_vgW"
      },
      "source": [
        "def prepro_test(x) :\r\n",
        "    X = x.copy()\r\n",
        "\r\n",
        "    X = X.merge(feat,  how = 'left').merge(stores,  how = 'left')    # 추가로 주어진 데이터들 병합해 사용\r\n",
        "\r\n",
        "    X['Year'] = pd.to_datetime(X['Date']).dt.year # Date 중 연도만 따로 추출\r\n",
        "    X['Month'] = pd.to_datetime(X['Date']).dt.month # Date 중 월만 따로 추출\r\n",
        "\r\n",
        "    X.drop(columns=['Date', 'MarkDown1', 'MarkDown2', 'MarkDown3', 'MarkDown4', 'MarkDown5'], inplace = True) # 사용하지 않을 변수 삭제\r\n",
        "\r\n",
        "    X = pd.get_dummies(X, columns = ['Type'])# object 변수형 가진 'Type'을 더미변수화\r\n",
        "    return X"
      ],
      "execution_count": 64,
      "outputs": []
    },
    {
      "cell_type": "code",
      "metadata": {
        "colab": {
          "base_uri": "https://localhost:8080/",
          "height": 399
        },
        "id": "-KdDVeho_5qK",
        "outputId": "635ebba3-59e1-40f3-e9b1-1a743cf659e5"
      },
      "source": [
        "prepro_test(test)"
      ],
      "execution_count": 65,
      "outputs": [
        {
          "output_type": "execute_result",
          "data": {
            "text/html": [
              "<div>\n",
              "<style scoped>\n",
              "    .dataframe tbody tr th:only-of-type {\n",
              "        vertical-align: middle;\n",
              "    }\n",
              "\n",
              "    .dataframe tbody tr th {\n",
              "        vertical-align: top;\n",
              "    }\n",
              "\n",
              "    .dataframe thead th {\n",
              "        text-align: right;\n",
              "    }\n",
              "</style>\n",
              "<table border=\"1\" class=\"dataframe\">\n",
              "  <thead>\n",
              "    <tr style=\"text-align: right;\">\n",
              "      <th></th>\n",
              "      <th>Store</th>\n",
              "      <th>Dept</th>\n",
              "      <th>IsHoliday</th>\n",
              "      <th>Temperature</th>\n",
              "      <th>Fuel_Price</th>\n",
              "      <th>CPI</th>\n",
              "      <th>Unemployment</th>\n",
              "      <th>Size</th>\n",
              "      <th>Year</th>\n",
              "      <th>Month</th>\n",
              "      <th>Type_A</th>\n",
              "      <th>Type_B</th>\n",
              "      <th>Type_C</th>\n",
              "    </tr>\n",
              "  </thead>\n",
              "  <tbody>\n",
              "    <tr>\n",
              "      <th>0</th>\n",
              "      <td>1</td>\n",
              "      <td>1</td>\n",
              "      <td>False</td>\n",
              "      <td>55.32</td>\n",
              "      <td>3.386</td>\n",
              "      <td>223.462779</td>\n",
              "      <td>6.573</td>\n",
              "      <td>151315</td>\n",
              "      <td>2012</td>\n",
              "      <td>11</td>\n",
              "      <td>1</td>\n",
              "      <td>0</td>\n",
              "      <td>0</td>\n",
              "    </tr>\n",
              "    <tr>\n",
              "      <th>1</th>\n",
              "      <td>1</td>\n",
              "      <td>1</td>\n",
              "      <td>False</td>\n",
              "      <td>61.24</td>\n",
              "      <td>3.314</td>\n",
              "      <td>223.481307</td>\n",
              "      <td>6.573</td>\n",
              "      <td>151315</td>\n",
              "      <td>2012</td>\n",
              "      <td>11</td>\n",
              "      <td>1</td>\n",
              "      <td>0</td>\n",
              "      <td>0</td>\n",
              "    </tr>\n",
              "    <tr>\n",
              "      <th>2</th>\n",
              "      <td>1</td>\n",
              "      <td>1</td>\n",
              "      <td>False</td>\n",
              "      <td>52.92</td>\n",
              "      <td>3.252</td>\n",
              "      <td>223.512911</td>\n",
              "      <td>6.573</td>\n",
              "      <td>151315</td>\n",
              "      <td>2012</td>\n",
              "      <td>11</td>\n",
              "      <td>1</td>\n",
              "      <td>0</td>\n",
              "      <td>0</td>\n",
              "    </tr>\n",
              "    <tr>\n",
              "      <th>3</th>\n",
              "      <td>1</td>\n",
              "      <td>1</td>\n",
              "      <td>True</td>\n",
              "      <td>56.23</td>\n",
              "      <td>3.211</td>\n",
              "      <td>223.561947</td>\n",
              "      <td>6.573</td>\n",
              "      <td>151315</td>\n",
              "      <td>2012</td>\n",
              "      <td>11</td>\n",
              "      <td>1</td>\n",
              "      <td>0</td>\n",
              "      <td>0</td>\n",
              "    </tr>\n",
              "    <tr>\n",
              "      <th>4</th>\n",
              "      <td>1</td>\n",
              "      <td>1</td>\n",
              "      <td>False</td>\n",
              "      <td>52.34</td>\n",
              "      <td>3.207</td>\n",
              "      <td>223.610984</td>\n",
              "      <td>6.573</td>\n",
              "      <td>151315</td>\n",
              "      <td>2012</td>\n",
              "      <td>11</td>\n",
              "      <td>1</td>\n",
              "      <td>0</td>\n",
              "      <td>0</td>\n",
              "    </tr>\n",
              "    <tr>\n",
              "      <th>...</th>\n",
              "      <td>...</td>\n",
              "      <td>...</td>\n",
              "      <td>...</td>\n",
              "      <td>...</td>\n",
              "      <td>...</td>\n",
              "      <td>...</td>\n",
              "      <td>...</td>\n",
              "      <td>...</td>\n",
              "      <td>...</td>\n",
              "      <td>...</td>\n",
              "      <td>...</td>\n",
              "      <td>...</td>\n",
              "      <td>...</td>\n",
              "    </tr>\n",
              "    <tr>\n",
              "      <th>115059</th>\n",
              "      <td>45</td>\n",
              "      <td>98</td>\n",
              "      <td>False</td>\n",
              "      <td>76.05</td>\n",
              "      <td>3.639</td>\n",
              "      <td>NaN</td>\n",
              "      <td>NaN</td>\n",
              "      <td>118221</td>\n",
              "      <td>2013</td>\n",
              "      <td>6</td>\n",
              "      <td>0</td>\n",
              "      <td>1</td>\n",
              "      <td>0</td>\n",
              "    </tr>\n",
              "    <tr>\n",
              "      <th>115060</th>\n",
              "      <td>45</td>\n",
              "      <td>98</td>\n",
              "      <td>False</td>\n",
              "      <td>77.50</td>\n",
              "      <td>3.614</td>\n",
              "      <td>NaN</td>\n",
              "      <td>NaN</td>\n",
              "      <td>118221</td>\n",
              "      <td>2013</td>\n",
              "      <td>7</td>\n",
              "      <td>0</td>\n",
              "      <td>1</td>\n",
              "      <td>0</td>\n",
              "    </tr>\n",
              "    <tr>\n",
              "      <th>115061</th>\n",
              "      <td>45</td>\n",
              "      <td>98</td>\n",
              "      <td>False</td>\n",
              "      <td>79.37</td>\n",
              "      <td>3.614</td>\n",
              "      <td>NaN</td>\n",
              "      <td>NaN</td>\n",
              "      <td>118221</td>\n",
              "      <td>2013</td>\n",
              "      <td>7</td>\n",
              "      <td>0</td>\n",
              "      <td>1</td>\n",
              "      <td>0</td>\n",
              "    </tr>\n",
              "    <tr>\n",
              "      <th>115062</th>\n",
              "      <td>45</td>\n",
              "      <td>98</td>\n",
              "      <td>False</td>\n",
              "      <td>82.84</td>\n",
              "      <td>3.737</td>\n",
              "      <td>NaN</td>\n",
              "      <td>NaN</td>\n",
              "      <td>118221</td>\n",
              "      <td>2013</td>\n",
              "      <td>7</td>\n",
              "      <td>0</td>\n",
              "      <td>1</td>\n",
              "      <td>0</td>\n",
              "    </tr>\n",
              "    <tr>\n",
              "      <th>115063</th>\n",
              "      <td>45</td>\n",
              "      <td>98</td>\n",
              "      <td>False</td>\n",
              "      <td>76.06</td>\n",
              "      <td>3.804</td>\n",
              "      <td>NaN</td>\n",
              "      <td>NaN</td>\n",
              "      <td>118221</td>\n",
              "      <td>2013</td>\n",
              "      <td>7</td>\n",
              "      <td>0</td>\n",
              "      <td>1</td>\n",
              "      <td>0</td>\n",
              "    </tr>\n",
              "  </tbody>\n",
              "</table>\n",
              "<p>115064 rows × 13 columns</p>\n",
              "</div>"
            ],
            "text/plain": [
              "        Store  Dept  IsHoliday  Temperature  ...  Month  Type_A  Type_B  Type_C\n",
              "0           1     1      False        55.32  ...     11       1       0       0\n",
              "1           1     1      False        61.24  ...     11       1       0       0\n",
              "2           1     1      False        52.92  ...     11       1       0       0\n",
              "3           1     1       True        56.23  ...     11       1       0       0\n",
              "4           1     1      False        52.34  ...     11       1       0       0\n",
              "...       ...   ...        ...          ...  ...    ...     ...     ...     ...\n",
              "115059     45    98      False        76.05  ...      6       0       1       0\n",
              "115060     45    98      False        77.50  ...      7       0       1       0\n",
              "115061     45    98      False        79.37  ...      7       0       1       0\n",
              "115062     45    98      False        82.84  ...      7       0       1       0\n",
              "115063     45    98      False        76.06  ...      7       0       1       0\n",
              "\n",
              "[115064 rows x 13 columns]"
            ]
          },
          "metadata": {
            "tags": []
          },
          "execution_count": 65
        }
      ]
    },
    {
      "cell_type": "code",
      "metadata": {
        "id": "Hn9OkSIv_98A"
      },
      "source": [
        "train1 = prepro_train(train)\r\n",
        "test1 = prepro_test(test)"
      ],
      "execution_count": 66,
      "outputs": []
    },
    {
      "cell_type": "code",
      "metadata": {
        "colab": {
          "base_uri": "https://localhost:8080/"
        },
        "id": "I9gE-vIQAniY",
        "outputId": "b587dc9e-b788-49e3-85e3-510421762d09"
      },
      "source": [
        "train1.shape, test1.shape"
      ],
      "execution_count": 70,
      "outputs": [
        {
          "output_type": "execute_result",
          "data": {
            "text/plain": [
              "((420212, 14), (115064, 13))"
            ]
          },
          "metadata": {
            "tags": []
          },
          "execution_count": 70
        }
      ]
    },
    {
      "cell_type": "code",
      "metadata": {
        "colab": {
          "base_uri": "https://localhost:8080/"
        },
        "id": "rq9327ZKAEsp",
        "outputId": "0ac3e8ab-cfd8-4767-f07e-8848468beb40"
      },
      "source": [
        "train1.isnull().sum().sum()"
      ],
      "execution_count": 68,
      "outputs": [
        {
          "output_type": "execute_result",
          "data": {
            "text/plain": [
              "0"
            ]
          },
          "metadata": {
            "tags": []
          },
          "execution_count": 68
        }
      ]
    },
    {
      "cell_type": "code",
      "metadata": {
        "colab": {
          "base_uri": "https://localhost:8080/"
        },
        "id": "LPMwxrFYAG--",
        "outputId": "0fd8a326-7da4-47d0-f0bc-e9bfbdd66727"
      },
      "source": [
        "test1.isnull().sum().sum()"
      ],
      "execution_count": 69,
      "outputs": [
        {
          "output_type": "execute_result",
          "data": {
            "text/plain": [
              "76324"
            ]
          },
          "metadata": {
            "tags": []
          },
          "execution_count": 69
        }
      ]
    },
    {
      "cell_type": "markdown",
      "metadata": {
        "id": "RZb3w_XoAaKK"
      },
      "source": [
        "전처리의 결과 test set에서만 결측치가 존재함을 확인했습니다. "
      ]
    },
    {
      "cell_type": "code",
      "metadata": {
        "colab": {
          "base_uri": "https://localhost:8080/",
          "height": 265
        },
        "id": "c5LCkg30BAo2",
        "outputId": "e89b5092-c42e-49ee-a271-d98b7fe7d218"
      },
      "source": [
        "train1.groupby(['Year'])[target].mean().sort_values().plot.barh();"
      ],
      "execution_count": 74,
      "outputs": [
        {
          "output_type": "display_data",
          "data": {
            "image/png": "[encoded data removed]",
            "text/plain": [
              "<Figure size 432x288 with 1 Axes>"
            ]
          },
          "metadata": {
            "tags": [],
            "needs_background": "light"
          }
        }
      ]
    },
    {
      "cell_type": "markdown",
      "metadata": {
        "id": "-QEs4q-LEjos"
      },
      "source": [
        "연도별로는 평균 주간 판매액의 큰 차이가 없을 것 같습니다."
      ]
    },
    {
      "cell_type": "code",
      "metadata": {
        "colab": {
          "base_uri": "https://localhost:8080/",
          "height": 265
        },
        "id": "0R9DyLSdALqC",
        "outputId": "cfee3d36-a03e-4822-b605-3fd1d592aa1f"
      },
      "source": [
        "train1.groupby(['Month'])[target].mean().sort_values().plot.barh();"
      ],
      "execution_count": 73,
      "outputs": [
        {
          "output_type": "display_data",
          "data": {
            "image/png": "[encoded data removed]",
            "text/plain": [
              "<Figure size 432x288 with 1 Axes>"
            ]
          },
          "metadata": {
            "tags": [],
            "needs_background": "light"
          }
        }
      ]
    },
    {
      "cell_type": "markdown",
      "metadata": {
        "id": "Z1XZGaCCEotK"
      },
      "source": [
        "월별로 평균 주간 판매액을 살펴보면 월별로 차이가 유의미하게 남을 확인할 수 있습니다. "
      ]
    },
    {
      "cell_type": "code",
      "metadata": {
        "colab": {
          "base_uri": "https://localhost:8080/"
        },
        "id": "n_Be9R_UA0oK",
        "outputId": "5ee0fe05-5c61-4b7d-e634-93d5a03e3929"
      },
      "source": [
        "train1[train1['Type_A']==1][target].mean()"
      ],
      "execution_count": 79,
      "outputs": [
        {
          "output_type": "execute_result",
          "data": {
            "text/plain": [
              "20148.108161620257"
            ]
          },
          "metadata": {
            "tags": []
          },
          "execution_count": 79
        }
      ]
    },
    {
      "cell_type": "code",
      "metadata": {
        "colab": {
          "base_uri": "https://localhost:8080/"
        },
        "id": "r-VlJKJYBLJZ",
        "outputId": "f3054d6b-449c-43fe-83aa-803162fc3671"
      },
      "source": [
        "train1[train1['Type_B']==1][target].mean()"
      ],
      "execution_count": 80,
      "outputs": [
        {
          "output_type": "execute_result",
          "data": {
            "text/plain": [
              "12290.549296565909"
            ]
          },
          "metadata": {
            "tags": []
          },
          "execution_count": 80
        }
      ]
    },
    {
      "cell_type": "code",
      "metadata": {
        "colab": {
          "base_uri": "https://localhost:8080/"
        },
        "id": "36A1s7D1CFKP",
        "outputId": "d7920b8b-c439-4ec1-b04c-4cd45a052a0a"
      },
      "source": [
        "train1[train1['Type_C']==1][target].mean()"
      ],
      "execution_count": 81,
      "outputs": [
        {
          "output_type": "execute_result",
          "data": {
            "text/plain": [
              "9549.454168236593"
            ]
          },
          "metadata": {
            "tags": []
          },
          "execution_count": 81
        }
      ]
    },
    {
      "cell_type": "code",
      "metadata": {
        "colab": {
          "base_uri": "https://localhost:8080/",
          "height": 262
        },
        "id": "4nwBYHnSCUAH",
        "outputId": "3336a8b6-269d-45fd-f1ff-7bfa3b0b82a4"
      },
      "source": [
        "pd.DataFrame({\"A\" : [train1[train1['Type_A']==1][target].mean()], \r\n",
        "              \"B\" : [train1[train1['Type_B']==1][target].mean()], \r\n",
        "              \"C\" : [train1[train1['Type_C']==1][target].mean()]}).plot.bar();"
      ],
      "execution_count": 85,
      "outputs": [
        {
          "output_type": "display_data",
          "data": {
            "image/png": "[encoded data removed]",
            "text/plain": [
              "<Figure size 432x288 with 1 Axes>"
            ]
          },
          "metadata": {
            "tags": [],
            "needs_background": "light"
          }
        }
      ]
    },
    {
      "cell_type": "markdown",
      "metadata": {
        "id": "WpjgKhpUDNow"
      },
      "source": [
        "매장의 Type별로도 평균 주간 매출액이 달라짐을 확인할 수 있습니다. "
      ]
    },
    {
      "cell_type": "code",
      "metadata": {
        "colab": {
          "base_uri": "https://localhost:8080/",
          "height": 280
        },
        "id": "ipSLqCzODBvG",
        "outputId": "94c35fd4-9338-47b4-ab13-685b26119904"
      },
      "source": [
        "sns.scatterplot(x = 'Fuel_Price', y = 'Weekly_Sales', data = train1);"
      ],
      "execution_count": 88,
      "outputs": [
        {
          "output_type": "display_data",
          "data": {
            "image/png": "[encoded data removed]",
            "text/plain": [
              "<Figure size 432x288 with 1 Axes>"
            ]
          },
          "metadata": {
            "tags": [],
            "needs_background": "light"
          }
        }
      ]
    },
    {
      "cell_type": "code",
      "metadata": {
        "colab": {
          "base_uri": "https://localhost:8080/",
          "height": 279
        },
        "id": "6oPVEBsfJ5Yg",
        "outputId": "08896992-3c05-4c2b-be66-5adf05826e1b"
      },
      "source": [
        "sns.scatterplot(x = 'CPI', y = 'Weekly_Sales', data = train1);"
      ],
      "execution_count": 90,
      "outputs": [
        {
          "output_type": "display_data",
          "data": {
            "image/png": "[encoded data removed]",
            "text/plain": [
              "<Figure size 432x288 with 1 Axes>"
            ]
          },
          "metadata": {
            "tags": [],
            "needs_background": "light"
          }
        }
      ]
    },
    {
      "cell_type": "code",
      "metadata": {
        "colab": {
          "base_uri": "https://localhost:8080/",
          "height": 279
        },
        "id": "HHCU_iTtJ_Mr",
        "outputId": "51f189db-ff43-4e5c-e207-17e8bba8d980"
      },
      "source": [
        "sns.scatterplot(x = 'Unemployment', y = 'Weekly_Sales', data = train1);"
      ],
      "execution_count": 91,
      "outputs": [
        {
          "output_type": "display_data",
          "data": {
            "image/png": "[encoded data removed]",
            "text/plain": [
              "<Figure size 432x288 with 1 Axes>"
            ]
          },
          "metadata": {
            "tags": [],
            "needs_background": "light"
          }
        }
      ]
    },
    {
      "cell_type": "code",
      "metadata": {
        "colab": {
          "base_uri": "https://localhost:8080/",
          "height": 279
        },
        "id": "zHXjNwydKE5G",
        "outputId": "f2472004-7f68-48b1-f421-0d1d3aa381fd"
      },
      "source": [
        "sns.scatterplot(x = 'Size', y = 'Weekly_Sales', data = train1);"
      ],
      "execution_count": 92,
      "outputs": [
        {
          "output_type": "display_data",
          "data": {
            "image/png": "[encoded data removed]",
            "text/plain": [
              "<Figure size 432x288 with 1 Axes>"
            ]
          },
          "metadata": {
            "tags": [],
            "needs_background": "light"
          }
        }
      ]
    },
    {
      "cell_type": "code",
      "metadata": {
        "id": "KmePdreGKLWt"
      },
      "source": [
        ""
      ],
      "execution_count": null,
      "outputs": []
    }
  ]
}